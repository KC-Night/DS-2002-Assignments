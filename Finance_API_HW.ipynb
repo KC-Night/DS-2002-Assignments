{
  "nbformat": 4,
  "nbformat_minor": 0,
  "metadata": {
    "colab": {
      "provenance": [],
      "authorship_tag": "ABX9TyPImvZUhLws/OjREaLhB/Li",
      "include_colab_link": true
    },
    "kernelspec": {
      "name": "python3",
      "display_name": "Python 3"
    },
    "language_info": {
      "name": "python"
    }
  },
  "cells": [
    {
      "cell_type": "markdown",
      "metadata": {
        "id": "view-in-github",
        "colab_type": "text"
      },
      "source": [
        "<a href=\"https://colab.research.google.com/github/KC-Night/DS-2002-Assignments/blob/main/Finance_API_HW.ipynb\" target=\"_parent\"><img src=\"https://colab.research.google.com/assets/colab-badge.svg\" alt=\"Open In Colab\"/></a>"
      ]
    },
    {
      "cell_type": "code",
      "execution_count": 2,
      "metadata": {
        "id": "RTRwZc6Ay8QT"
      },
      "outputs": [],
      "source": [
        "import json\n",
        "import pandas as pd\n",
        "import json\n",
        "import requests"
      ]
    },
    {
      "cell_type": "markdown",
      "source": [
        "Task **1**"
      ],
      "metadata": {
        "id": "VUuriGPApxwr"
      }
    },
    {
      "cell_type": "code",
      "source": [
        "# Prompt the user to input two or more stock symbols\n",
        "stocks = input(\"Enter two or more stock symbols separated by commas: \").replace(\" \", \"\")"
      ],
      "metadata": {
        "id": "luJtnS7_1wMo"
      },
      "execution_count": null,
      "outputs": []
    },
    {
      "cell_type": "code",
      "source": [
        "#Use the API to fetch data for the given symbols\n",
        "apikey=\"ENTER API KEY HERE\"\n",
        "\n",
        "url = \"https://yfapi.net/v6/finance/quote\"\n",
        "\n",
        "querystring = {\"symbols\":stocks.strip()}\n",
        "\n",
        "headers = {\n",
        "    'x-api-key': apikey\n",
        "    }\n",
        "\n",
        "response = requests.request(\"GET\", url, headers=headers, params=querystring)\n",
        "\n",
        "print(response.text)"
      ],
      "metadata": {
        "id": "dr0y-NOezJp7"
      },
      "execution_count": null,
      "outputs": []
    },
    {
      "cell_type": "code",
      "source": [
        "print(json.dumps(response.json(), indent=3))"
      ],
      "metadata": {
        "id": "GPFyeR2gzN2I"
      },
      "execution_count": null,
      "outputs": []
    },
    {
      "cell_type": "code",
      "source": [
        "#Extract and display only the Stock Ticker, Company Name, and Current Market Price.\n",
        "df = pd.DataFrame(response.json()[\"quoteResponse\"][\"result\"])[\n",
        "        [\"symbol\", \"shortName\", \"regularMarketPrice\"]\n",
        "    ]\n",
        "df[\"regularMarketPrice\"] = df[\"regularMarketPrice\"].apply(lambda x: f\"${x:,.2f}\" if pd.notna(x) else \"N/A\")\n",
        "\n",
        "for _, row in df.iterrows():\n",
        "        print(f\"Stock Ticker: {row['symbol']}, Company: {row['shortName']}, Current Market Price: {row['regularMarketPrice']}\")"
      ],
      "metadata": {
        "colab": {
          "base_uri": "https://localhost:8080/"
        },
        "id": "jcEQ3oHvEmfW",
        "outputId": "3b22111d-29eb-47af-a00e-0ec1a5df0561"
      },
      "execution_count": 21,
      "outputs": [
        {
          "output_type": "stream",
          "name": "stdout",
          "text": [
            "Stock Ticker: RBLX, Company: Roblox Corporation, Current Market Price: $59.78\n",
            "Stock Ticker: AAPL, Company: Apple Inc., Current Market Price: $240.36\n"
          ]
        }
      ]
    },
    {
      "cell_type": "markdown",
      "source": [
        "Task 2.1"
      ],
      "metadata": {
        "id": "dKVkPlqup23U"
      }
    },
    {
      "cell_type": "code",
      "source": [
        "# Allow the user to choose a module from the Quote Summary Endpoint, Find: 52 Week High, 52 Week Low, Return on Assets (ROA), Display as Dataframe\n",
        "stock = input(\"Enter the stock symbol: \")\n",
        "\n",
        "def get_quote_summary_data(choice, stock):\n",
        "    url = f\"https://yfapi.net/v11/finance/quoteSummary/{stock}\"\n",
        "    querystring = {\"modules\": \"price,summaryDetail,financialData\"}\n",
        "    headers = {'x-api-key': apikey}\n",
        "\n",
        "    response = requests.get(url, headers=headers, params=querystring)\n",
        "    data = response.json()\n",
        "\n",
        "    result = data.get(\"quoteSummary\", {}).get(\"result\", [{}])[0]\n",
        "    if not result:\n",
        "        return \"No data found for the given stock symbol.\"\n",
        "\n",
        "    module_name = \"Invalid Choice\"\n",
        "    value = \"N/A\"\n",
        "\n",
        "    if choice == \"52 Week High\":\n",
        "        module_name, value = \"52-Week High\", result.get(\"summaryDetail\", {}).get(\"fiftyTwoWeekHigh\", {}).get(\"raw\", \"N/A\")\n",
        "    elif choice == \"52 Week Low\":\n",
        "        module_name, value = \"52-Week Low\", result.get(\"summaryDetail\", {}).get(\"fiftyTwoWeekLow\", {}).get(\"raw\", \"N/A\")\n",
        "    elif choice == \"Return on Assets (ROA)\":\n",
        "        roa_data = result.get(\"financialData\", {}).get(\"returnOnAssets\", {})\n",
        "\n",
        "        roa = roa_data.get(\"raw\", None)\n",
        "        if roa is not None:\n",
        "            value = f\"{roa:.2%}\"\n",
        "        else:\n",
        "            value = \"N/A\"\n",
        "        module_name = \"Return on Assets (ROA)\"\n",
        "    else:\n",
        "        return \"Invalid choice. Please choose from 52 Week High, 52 Week Low, or Return on Assets (ROA).\"\n",
        "\n",
        "    df = pd.DataFrame({module_name: [value]}, index=[stock])\n",
        "    return df\n",
        "\n",
        "print(\"Choose an option: 52 Week High, 52 Week Low, Return on Assets (ROA)\")\n",
        "user_choice = input(\"Enter your choice: \")\n",
        "\n",
        "result_df = get_quote_summary_data(user_choice, stock)\n",
        "print(result_df)"
      ],
      "metadata": {
        "colab": {
          "base_uri": "https://localhost:8080/"
        },
        "id": "ZgEPpXN_uFBb",
        "outputId": "1ab6eb4a-ad0c-42d2-f240-44d3ca6aef0f"
      },
      "execution_count": 46,
      "outputs": [
        {
          "output_type": "stream",
          "name": "stdout",
          "text": [
            "Enter the stock symbol: AAPL\n",
            "Choose an option: 52 Week High, 52 Week Low, Return on Assets (ROA)\n",
            "Enter your choice: Return on Assets (ROA)\n",
            "     Return on Assets (ROA)\n",
            "AAPL                 22.52%\n"
          ]
        }
      ]
    },
    {
      "cell_type": "markdown",
      "source": [
        "Task 2.2"
      ],
      "metadata": {
        "id": "ShLwaiCSp5B4"
      }
    },
    {
      "cell_type": "code",
      "source": [
        "#Find Current Trending Stocks , Their Actual Name and Ticker and Current Price as well as their 52 high and low\n",
        "\n",
        "url= \"https://yfapi.net/v1/finance/trending/US\"\n",
        "\n",
        "querystring = {\"region\":\"US\"}\n",
        "\n",
        "headers = {\n",
        "    'x-api-key': apikey\n",
        "}\n",
        "\n",
        "response = requests.get(url, headers=headers, params=querystring)\n",
        "\n",
        "print(json.dumps(response.json(), indent=3))\n"
      ],
      "metadata": {
        "id": "3VLx2col_tT2"
      },
      "execution_count": null,
      "outputs": []
    },
    {
      "cell_type": "code",
      "source": [
        "trending_url = \"https://yfapi.net/v1/finance/trending/US\"\n",
        "quote_url = \"https://yfapi.net/v6/finance/quote\"\n",
        "headers = {'x-api-key': apikey}\n",
        "\n",
        "def fetch_trending_stocks():\n",
        "    response = requests.get(trending_url, headers=headers)\n",
        "    if response.status_code == 200:\n",
        "        data = response.json()\n",
        "        quotes = data.get(\"finance\", {}).get(\"result\", [])\n",
        "        if quotes:\n",
        "            return [stock[\"symbol\"] for stock in quotes[0].get(\"quotes\", [])]\n",
        "    return []\n",
        "\n",
        "def fetch_stock_details(symbols):\n",
        "    querystring = {\"symbols\": \",\".join(symbols)}\n",
        "    response = requests.get(quote_url, headers=headers, params=querystring)\n",
        "    if response.status_code == 200:\n",
        "        data = response.json()\n",
        "        return data.get(\"quoteResponse\", {}).get(\"result\", [])\n",
        "    return []\n",
        "\n",
        "trending_symbols = fetch_trending_stocks()\n",
        "if trending_symbols:\n",
        "    stock_details = fetch_stock_details(trending_symbols)\n",
        "    if stock_details:\n",
        "        stock_list = [\n",
        "            {\n",
        "                \"Stock Name\": stock.get(\"shortName\", \"N/A\"),\n",
        "                \"Ticker\": stock.get(\"symbol\", \"N/A\"),\n",
        "                \"Current Price (USD)\": stock.get(\"regularMarketPrice\", \"N/A\"),\n",
        "                \"52-Week High (USD)\": stock.get(\"fiftyTwoWeekHigh\", \"N/A\"),\n",
        "                \"52-Week Low (USD)\": stock.get(\"fiftyTwoWeekLow\", \"N/A\")\n",
        "            }\n",
        "            for stock in stock_details\n",
        "        ]\n",
        "\n",
        "        df = pd.DataFrame(stock_list)\n",
        "        print(df)\n",
        "    else:\n",
        "        print(\"No detailed stock data found.\")\n",
        "else:\n",
        "    print(\"No trending stocks found.\")\n"
      ],
      "metadata": {
        "id": "dxvfGkxLDlq2"
      },
      "execution_count": null,
      "outputs": []
    }
  ]
}